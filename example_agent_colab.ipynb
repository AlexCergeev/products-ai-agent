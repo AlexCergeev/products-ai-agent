{
  "cells": [
    {
      "cell_type": "code",
      "execution_count": null,
      "metadata": {
        "colab": {
          "base_uri": "https://localhost:8080/"
        },
        "id": "-1-LGrO42rJp",
        "outputId": "7874922e-6bd2-49c1-c707-124013e24afe"
      },
      "outputs": [],
      "source": [
        "!git clone https://github.com/AlexCergeev/products-ai-agent\n",
        "%cd products-ai-agent"
      ]
    },
    {
      "cell_type": "code",
      "execution_count": null,
      "metadata": {
        "colab": {
          "base_uri": "https://localhost:8080/"
        },
        "collapsed": true,
        "id": "fDx_ROLsEEzh",
        "outputId": "de86d8de-69e9-4257-9f60-7a07ba624b68"
      },
      "outputs": [],
      "source": [
        "!pip install -U -r requirements.txt --quiet"
      ]
    },
    {
      "cell_type": "markdown",
      "metadata": {},
      "source": [
        "# Как работает скрипт?\n",
        "\n",
        "## 1. Получение входных данных  \n",
        "- Агент запрашивает **ссылки** на:\n",
        "  - Техническое задание (ТЗ)\n",
        "  - Код проекта (или сами файлы)\n",
        "- Можно передать файлы с **требованиями** (например, `req1.txt`) и **кодом** (`code1.txt`). Файлы должны находиться в корневой директории проекта.\n",
        "\n",
        "## 2. Анализ входных данных  \n",
        "- Агент **изучает ТЗ**, чтобы понять, какие требования к проекту.  \n",
        "- Читает код проекта, проверяя его структуру.\n",
        "- Проверяет код на ошибки или потенциальные проблемы.  \n",
        "\n",
        "## 4. Сохранение и отправка результатов  \n",
        "- Агент **сохраняет отчёты** в корневой директории проекта.  \n",
        "- Отправляет результаты на **Confluence**.  \n",
        "\n",
        "---\n",
        "\n",
        "## Что делать пользователю?\n",
        "1. Подготовить **ссылки** или **файлы** с кодом и требованиями.  \n",
        "2. Передать их агенту.  \n",
        "3. Дождаться отчёта.  \n",
        "\n",
        "🚀\n",
        "\n",
        "## Пример ввода:\n",
        "agent: Приветствую! Я AI агент, чья задача заключается в проверке соответствия кода бизнес требованиям.\n",
        "Могу я узнать, хотите ли вы предоставить ссылку на Confluence с кодом и бизнес требованиями или загрузить файлы?\n",
        "\n",
        "user: файлы\n",
        "\n",
        "agent: Прошу отправить название файла с требованиями\n",
        "\n",
        "user: req1.txt\n",
        "\n",
        "agent: Прошу отправить название файла с кодом\n",
        "\n",
        "user: code1.txt\n",
        "\n",
        "agent: корректный ввод требований. корректный ввод кода. предоставленный текст является кодом на языке программирования Go.\n",
        "\n",
        "agent: Прошу отправить ссылку на Confluence для комментария проекта\n",
        "\n",
        "user: https://kpaqkpaq.atlassian.net/wiki/spaces/~61b028cf6d002b006b3dbff2/pages/131646/1\n",
        "\n",
        "agent: Комментарий успешно отправлен в Confluence по указанному PAGE_ID.\n",
        "\n",
        "agent: Краткий и полный отчет сохранены в файл!"
      ]
    },
    {
      "cell_type": "code",
      "execution_count": null,
      "metadata": {},
      "outputs": [],
      "source": [
        "import os\n",
        "# Устанавливаем переменнуы окружения\n",
        "\n",
        "os.environ[\"GIGACHAT_API_KEY\"] = \"\"\n",
        "os.environ[\"confluence_login\"] = \"\"\n",
        "os.environ[\"confluence_password\"]= \"\""
      ]
    },
    {
      "cell_type": "code",
      "execution_count": 2,
      "metadata": {
        "id": "P5Kf-LM6EDHm"
      },
      "outputs": [],
      "source": [
        "from agent import Main_Workflow\n",
        "\n",
        "multi_agents = Main_Workflow()"
      ]
    },
    {
      "cell_type": "code",
      "execution_count": null,
      "metadata": {},
      "outputs": [
        {
          "name": "stdout",
          "output_type": "stream",
          "text": [
            "Приветствую! Я AI агент, чья задача заключается в проверке соответствия кода бизнес требованиям. Могу я узнать, хотите ли вы предоставить ссылку на Confluence с кодом и бизнес требованиями или загрузить файлы?\n",
            "корректный ввод требований.\n",
            "корректный ввод кода. предоставленный текст является кодом на языке программирования go.\n"
          ]
        }
      ],
      "source": [
        "multi_agents.work()"
      ]
    },
    {
      "cell_type": "code",
      "execution_count": null,
      "metadata": {},
      "outputs": [],
      "source": []
    }
  ],
  "metadata": {
    "colab": {
      "provenance": []
    },
    "kernelspec": {
      "display_name": "leetcode",
      "language": "python",
      "name": "python3"
    },
    "language_info": {
      "codemirror_mode": {
        "name": "ipython",
        "version": 3
      },
      "file_extension": ".py",
      "mimetype": "text/x-python",
      "name": "python",
      "nbconvert_exporter": "python",
      "pygments_lexer": "ipython3",
      "version": "3.11.4"
    }
  },
  "nbformat": 4,
  "nbformat_minor": 0
}
