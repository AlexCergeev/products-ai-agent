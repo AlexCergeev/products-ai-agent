{
 "cells": [
  {
   "cell_type": "code",
   "execution_count": null,
   "metadata": {},
   "outputs": [],
   "source": [
    "from langchain_gigachat.chat_models import GigaChat\n",
    "from langchain_core.messages import HumanMessage, SystemMessage\n",
    "from _config import credentials"
   ]
  },
  {
   "cell_type": "code",
   "execution_count": null,
   "metadata": {},
   "outputs": [
    {
     "ename": "NameError",
     "evalue": "name 'MessagesRole' is not defined",
     "output_type": "error",
     "traceback": [
      "\u001b[0;31m---------------------------------------------------------------------------\u001b[0m",
      "\u001b[0;31mNameError\u001b[0m                                 Traceback (most recent call last)",
      "Cell \u001b[0;32mIn[1], line 1\u001b[0m\n\u001b[0;32m----> 1\u001b[0m \u001b[43mMessagesRole\u001b[49m\n",
      "\u001b[0;31mNameError\u001b[0m: name 'MessagesRole' is not defined"
     ]
    }
   ],
   "source": [
    "giga = GigaChat(\n",
    "    credentials=credentials,\n",
    "    verify_ssl_certs=False,\n",
    "    timeout=120,\n",
    "    temperature=1,\n",
    "    top_p=0.5,\n",
    "    model=\"GigaChat-Max\",\n",
    "    # scope=\"GIGACHAT_API_CORP\",\n",
    "    # auth_url='https://sm-auth-sd.prom-88-89-apps.ocp-geo.ocp.sigma.sbrf.ru/api/v2/oauth',\n",
    "    # base_url='https://gigachat.devices.sberbank.ru/api/v1'   \n",
    ")\n",
    "\n",
    "messages = [\n",
    "    SystemMessage(\n",
    "        content=\"Выступи в роли опытного программиста IT продуктов. Тебе будут переданы требования для разработки. Реализуй по требованиям необходимый код на python. Решай задачу шаг за шагом.\",\n",
    "    ),\n",
    "    HumanMessage(\n",
    "        content=\"\"\n",
    "    )\n",
    "]\n",
    "\n",
    "resp2 = giga.invoke(\n",
    "    [\n",
    "        (\n",
    "            \"system\",\n",
    "            \"Выступи в роли опытного программиста IT продуктов. Тебе будут переданы требования для разработки. Реализуй по требованиям необходимый код на python. Решай задачу шаг за шагом.\",\n",
    "        ),\n",
    "        HumanMessage(\n",
    "            content=resp.text(),\n",
    "            additional_kwargs={\n",
    "                'attachments': []\n",
    "            }\n",
    "        ),\n",
    "    ]\n",
    ")\n",
    "print(resp2)"
   ]
  },
  {
   "cell_type": "code",
   "execution_count": null,
   "metadata": {},
   "outputs": [],
   "source": []
  },
  {
   "cell_type": "code",
   "execution_count": null,
   "metadata": {},
   "outputs": [],
   "source": []
  }
 ],
 "metadata": {
  "kernelspec": {
   "display_name": "leetcode",
   "language": "python",
   "name": "python3"
  },
  "language_info": {
   "codemirror_mode": {
    "name": "ipython",
    "version": 3
   },
   "file_extension": ".py",
   "mimetype": "text/x-python",
   "name": "python",
   "nbconvert_exporter": "python",
   "pygments_lexer": "ipython3",
   "version": "3.11.4"
  }
 },
 "nbformat": 4,
 "nbformat_minor": 2
}
