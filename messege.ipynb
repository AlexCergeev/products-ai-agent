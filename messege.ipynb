{
 "cells": [
  {
   "cell_type": "code",
   "execution_count": 1,
   "metadata": {},
   "outputs": [],
   "source": [
    "from langchain_gigachat.chat_models import GigaChat\n",
    "from langchain_core.messages import HumanMessage, SystemMessage\n",
    "from _config import credentials"
   ]
  },
  {
   "cell_type": "code",
   "execution_count": 9,
   "metadata": {},
   "outputs": [
    {
     "name": "stdout",
     "output_type": "stream",
     "text": [
      "content='Отлично! Я готов приступить к работе. Давай начнем с того, что ты предоставишь мне требования для разработки. Опиши, какой функционал должен быть реализован и какие технологии/библиотеки предполагается использовать.' additional_kwargs={} response_metadata={'token_usage': {'prompt_tokens': 89, 'completion_tokens': 46, 'total_tokens': 135}, 'model_name': 'GigaChat-Max:1.0.26.20', 'x_headers': {'x-request-id': '9f9ce631-216c-4f5d-ae69-0c868f9f8702', 'x-session-id': 'b4a831e4-8901-4c17-9541-6cce54f4d5cf', 'x-client-id': None}, 'finish_reason': 'stop'} id='9f9ce631-216c-4f5d-ae69-0c868f9f8702'\n"
     ]
    }
   ],
   "source": [
    "giga = GigaChat(\n",
    "    credentials=credentials,\n",
    "    verify_ssl_certs=False,\n",
    "    timeout=120,\n",
    "    temperature=1,\n",
    "    top_p=0.5,\n",
    "    model=\"GigaChat-Max\",\n",
    "    # scope=\"GIGACHAT_API_CORP\",\n",
    "    # auth_url='https://sm-auth-sd.prom-88-89-apps.ocp-geo.ocp.sigma.sbrf.ru/api/v2/oauth',\n",
    "    # base_url='https://gigachat.devices.sberbank.ru/api/v1'   \n",
    ")\n",
    "\n",
    "messages = [\n",
    "    SystemMessage(\n",
    "        content=\"Выступи в роли опытного программиста IT продуктов. Тебе будут переданы требования для разработки. Реализуй по требованиям необходимый код на python. Решай задачу шаг за шагом.\",\n",
    "    ),\n",
    "    HumanMessage(\n",
    "        content=\"\"\n",
    "    )\n",
    "]\n",
    "\n",
    "resp2 = giga.invoke(\n",
    "    [\n",
    "        (\n",
    "            \"system\",\n",
    "            \"Выступи в роли опытного программиста IT продуктов. Тебе будут переданы требования для разработки. Реализуй по требованиям необходимый код на python. Решай задачу шаг за шагом.\",\n",
    "        ),\n",
    "    ]\n",
    ")\n",
    "print(resp2)"
   ]
  },
  {
   "cell_type": "code",
   "execution_count": null,
   "metadata": {},
   "outputs": [],
   "source": []
  },
  {
   "cell_type": "code",
   "execution_count": 8,
   "metadata": {},
   "outputs": [
    {
     "ename": "NameError",
     "evalue": "name 'resp2' is not defined",
     "output_type": "error",
     "traceback": [
      "\u001b[0;31m---------------------------------------------------------------------------\u001b[0m",
      "\u001b[0;31mNameError\u001b[0m                                 Traceback (most recent call last)",
      "Cell \u001b[0;32mIn[8], line 1\u001b[0m\n\u001b[0;32m----> 1\u001b[0m \u001b[43mresp2\u001b[49m\n",
      "\u001b[0;31mNameError\u001b[0m: name 'resp2' is not defined"
     ]
    }
   ],
   "source": [
    "ResponseError"
   ]
  },
  {
   "cell_type": "code",
   "execution_count": 81,
   "metadata": {},
   "outputs": [],
   "source": [
    "import os\n",
    "from tabnanny import verbose\n",
    "import wget\n",
    "from langchain.vectorstores import Qdrant\n",
    "from langchain_gigachat.embeddings import GigaChatEmbeddings\n",
    "from langchain_gigachat.chat_models import GigaChat\n",
    "from langchain_community.document_loaders import BSHTMLLoader\n",
    "from langchain.chains import RetrievalQA\n",
    "from _config import credentials\n",
    "\n",
    "from rag import docs\n",
    "\n",
    "\n",
    "# Инициализируем векторное хранилище\n",
    "embeddings = GigaChatEmbeddings(credentials=credentials, verify_ssl_certs=False)\n",
    "\n",
    "doc_store = Qdrant.from_documents(\n",
    "    docs, \n",
    "    embeddings,\n",
    "    location=\":memory:\", \n",
    "    collection_name=\"docs\",\n",
    ")\n",
    "rag = doc_store.as_retriever(search_kwargs={'k': 3})\n",
    "\n",
    "# Инициализируем GigaChat вместо OpenAI\n",
    "# llm = GigaChat(\n",
    "#     credentials=credentials,\n",
    "#     verify_ssl_certs=False,\n",
    "#     timeout=120,\n",
    "#     temperature=0.3,\n",
    "#     top_p=0.5,\n",
    "#     model=\"GigaChat-Pro\",\n",
    "# )\n",
    "\n",
    "# # # Цикл для ответа на вопросы пользователя\n",
    "# while True:\n",
    "#     question = input('Ваш вопрос: ')\n",
    "#     qa = RetrievalQA.from_chain_type(\n",
    "#         llm=llm,\n",
    "#         chain_type=\"stuff\",   # объединяет найденные документы в один контекст\n",
    "#         retriever=doc_store.as_retriever(),\n",
    "#         return_source_documents=False,\n",
    "#         verbose=True\n",
    "#     )\n",
    "\n",
    "#     result = qa(question)\n",
    "#     print(f\"Answer: {result}\")\n",
    "#     break\n",
    "\n",
    "r = rag.invoke(txxxt)"
   ]
  },
  {
   "cell_type": "code",
   "execution_count": 14,
   "metadata": {},
   "outputs": [],
   "source": [
    "import os\n",
    "requirements_file_path = '/Users/kpaq/Documents/code/products-ai-agent/tests/БТ3/БТ3.txt'  # Укажите корректный путь к файлу требований\n",
    "if not os.path.exists(requirements_file_path):\n",
    "    console.print(f\"[bold red]Файл с требованиями не найден: {requirements_file_path}[/bold red]\")\n",
    "with open(requirements_file_path, 'r', encoding='utf-8') as file:\n",
    "    project_requirements = file.read()"
   ]
  },
  {
   "cell_type": "code",
   "execution_count": 15,
   "metadata": {},
   "outputs": [
    {
     "data": {
      "text/plain": [
       "'Бизнес-требование #3: Система расчета процентов по срочному депозиту\\nВерсия: 3.2\\nДата вступления в силу: 01.01.2024\\n\\n1. Обзор\\nСистема автоматически рассчитывает итоговую сумму вклада с учетом капитализации процентов и штрафов за досрочное снятие.\\n\\n2. Условия договора\\nМинимальный срок: 6 месяцев.\\n\\nМинимальная сумма: 50 000 RUB.\\n\\nКатегории вкладов:\\n\\nКатегория\\tГодовая ставка (%)\\tКапитализация\\nСтандарт\\t6.5\\tЕжемесячная\\nПремиум\\t7.8\\tЕжеквартальная\\n3. Логика расчета\\nФормула капитализации:\\n\\nCopy\\nИтог = Сумма × (1 + Ставка / Периоды) ^ (Периоды × Срок)  \\nПериоды: 12 (ежемесячно), 4 (ежеквартально).\\n\\nШтрафы:\\n\\nДосрочное снятие: Удержание 30% начисленных процентов (если срок < 6 мес).\\n\\nОграничения:\\n\\nСумма пополнения: Не допускается для срочных депозитов.\\n\\nМаксимальный срок: 36 месяцев.\\n\\n4. Интеграции\\nПроверка наличия просроченных кредитов у клиента через НБКИ.\\n\\n5. Тестовые сценарии\\nСумма\\tКатегория\\tСрок\\tДосрочно\\tОжидаемый результат (RUB)\\n60 000\\tСтандарт\\t12\\tНет\\t60 000 × (1 + 0.065/12)^12 ≈ 64 250\\n100 000\\tПремиум\\t3\\tДа\\t100 000 × (1 + 0.078/4)^1 - 30% ≈ 101 837\\n'"
      ]
     },
     "execution_count": 15,
     "metadata": {},
     "output_type": "execute_result"
    }
   ],
   "source": [
    "project_requirements"
   ]
  },
  {
   "cell_type": "code",
   "execution_count": 16,
   "metadata": {},
   "outputs": [],
   "source": [
    "from rag import Rag\n",
    "\n",
    "rag = Rag()\n",
    "\n",
    "data_rag = rag.get_data(project_requirements)"
   ]
  },
  {
   "cell_type": "code",
   "execution_count": 18,
   "metadata": {},
   "outputs": [
    {
     "name": "stdout",
     "output_type": "stream",
     "text": [
      "Данные для справки, они получены из RAG:\n",
      "Документ может не включать описание ограничений, предположений и условий, в которых предполагается реализация системы.\n",
      "Проблемы с форматированием и структурированием документа могут затруднить быстрое понимание и поиск необходимой информации.\n",
      "Техническое задание может содержать нечетко сформулированные требования, что приводит к неоднозначному пониманию задачи.\n",
      "\n"
     ]
    }
   ],
   "source": [
    "print(data_rag)"
   ]
  },
  {
   "cell_type": "code",
   "execution_count": 67,
   "metadata": {},
   "outputs": [
    {
     "name": "stderr",
     "output_type": "stream",
     "text": [
      "/var/folders/6j/f0vg68hn36q74_37dv0v8vg40000gn/T/ipykernel_62119/3357026367.py:1: LangChainDeprecationWarning: The method `BaseRetriever.get_relevant_documents` was deprecated in langchain-core 0.1.46 and will be removed in 1.0. Use :meth:`~invoke` instead.\n",
      "  docs = qa.retriever.get_relevant_documents(\"Ваш вопрос\")\n"
     ]
    }
   ],
   "source": [
    "docs = qa.retriever.(\"Ваш вопрос\")"
   ]
  },
  {
   "cell_type": "code",
   "execution_count": 73,
   "metadata": {},
   "outputs": [
    {
     "data": {
      "text/plain": [
       "[Document(metadata={'_id': '0e62c871fd83491ebd24bb70d270db9a', '_collection_name': 'docs'}, page_content='Проблемы с форматированием и структурированием документа могут затруднить быстрое понимание и поиск необходимой информации.'),\n",
       " Document(metadata={'_id': 'a6e509df0c434098a5d368bcdadb1e2e', '_collection_name': 'docs'}, page_content='Техническое задание может содержать нечетко сформулированные требования, что приводит к неоднозначному пониманию задачи.'),\n",
       " Document(metadata={'_id': '5b911d676b5148ba9f290d37126a86fa', '_collection_name': 'docs'}, page_content='Отсутствие конкретных критериев приёмки и измеримых метрик может привести к разночтениям в оценке качества конечного продукта.'),\n",
       " Document(metadata={'_id': '92648d575f5d441c86ea4adc50235daa', '_collection_name': 'docs'}, page_content='В документе могут присутствовать противоречивые указания, из-за чего разные части задания конфликтуют между собой.')]"
      ]
     },
     "execution_count": 73,
     "metadata": {},
     "output_type": "execute_result"
    }
   ],
   "source": [
    "doc_store.as_retriever().invoke(\"Ваш вопрос\")"
   ]
  },
  {
   "cell_type": "code",
   "execution_count": 72,
   "metadata": {},
   "outputs": [
    {
     "data": {
      "text/plain": [
       "[Document(metadata={'_id': '7a5677d7ada64e56a1d613cdfab9cb39', '_collection_name': 'docs'}, page_content='Требования к функциональности могут быть описаны неполно или с пропущенными деталями, что затрудняет разработку и тестирование.'),\n",
       " Document(metadata={'_id': '095055320e6b444c9e3473ac0b198c0c', '_collection_name': 'docs'}, page_content='Документ может не включать описание ограничений, предположений и условий, в которых предполагается реализация системы.'),\n",
       " Document(metadata={'_id': 'a6e509df0c434098a5d368bcdadb1e2e', '_collection_name': 'docs'}, page_content='Техническое задание может содержать нечетко сформулированные требования, что приводит к неоднозначному пониманию задачи.'),\n",
       " Document(metadata={'_id': '5b911d676b5148ba9f290d37126a86fa', '_collection_name': 'docs'}, page_content='Отсутствие конкретных критериев приёмки и измеримых метрик может привести к разночтениям в оценке качества конечного продукта.')]"
      ]
     },
     "execution_count": 72,
     "metadata": {},
     "output_type": "execute_result"
    }
   ],
   "source": []
  },
  {
   "cell_type": "code",
   "execution_count": 75,
   "metadata": {},
   "outputs": [
    {
     "name": "stdout",
     "output_type": "stream",
     "text": [
      "\n",
      "\n",
      "\u001b[1m> Entering new ConversationChain chain...\u001b[0m\n",
      "Prompt after formatting:\n",
      "\u001b[32;1m\u001b[1;3mThe following is a friendly conversation between a human and an AI. The AI is talkative and provides lots of specific details from its context. If the AI does not know the answer to a question, it truthfully says it does not know.\n",
      "\n",
      "Current conversation:\n",
      "[]\n",
      "Human: Привет, как дела?\n",
      "AI:\u001b[0m\n",
      "\n",
      "\u001b[1m> Finished chain.\u001b[0m\n",
      "Бот: Привет! Я всегда в отличной форме и готов общаться. А у тебя как дела?\n",
      "\n",
      "\n",
      "\u001b[1m> Entering new ConversationChain chain...\u001b[0m\n",
      "Prompt after formatting:\n",
      "\u001b[32;1m\u001b[1;3mThe following is a friendly conversation between a human and an AI. The AI is talkative and provides lots of specific details from its context. If the AI does not know the answer to a question, it truthfully says it does not know.\n",
      "\n",
      "Current conversation:\n",
      "[HumanMessage(content='Привет, как дела?', additional_kwargs={}, response_metadata={}), AIMessage(content='Привет! Я всегда в отличной форме и готов общаться. А у тебя как дела?', additional_kwargs={}, response_metadata={})]\n",
      "Human: Расскажи подробнее о Model context protocol.\n",
      "AI:\u001b[0m\n",
      "\n",
      "\u001b[1m> Finished chain.\u001b[0m\n",
      "Бот: Протокол **Model Context** (Модельный контекст) — это важный аспект архитектуры многих современных языковых моделей, таких как GPT (Generative Pre-training Transformer), разработанных OpenAI, или аналогичных моделей от других компаний. Этот протокол описывает способ передачи информации между различными компонентами модели и позволяет сохранять состояние модели между последовательными запросами.\n",
      "\n",
      "### Основные аспекты Model Context Protocol:\n",
      "1. **Контекстное окно (Context Window):** Это количество токенов, которые модель может \"видеть\" при генерации ответа. В GPT-3, например, стандартное контекстное окно составляет 2048 токенов. Если пользователь предоставляет больше текста, чем вмещает контекстное окно, только часть его будет использована для формирования ответа. Остальная информация теряется за пределами окна.\n",
      "\n",
      "2. **Сохранение состояния (Statefulness):** Модели, использующие Model Context Protocol, могут запоминать информацию, полученную в предыдущих запросах. Например, если вы спросите модель о том, что было сказано ранее в диалоге, она сможет использовать эту информацию для формирования более связного ответа.\n",
      "\n",
      "3. **Память (Memory):** Контекстная память позволяет моделям помнить важные детали разговора или задачи, даже если они были упомянуты несколько шагов назад. Эта функция особенно полезна в длинных диалогах или сложных задачах.\n",
      "\n",
      "4. **Передача параметров (Parameters Passing):** В некоторых случаях модель может принимать дополнительные параметры, которые влияют на её поведение. Эти параметры могут быть переданы через контекстный протокол и использоваться для настройки вывода.\n",
      "\n",
      "5. **Обработка последовательностей (Sequence Processing):** Многие современные языковые модели работают с последовательностями текстовых данных. Model Context Protocol помогает эффективно обрабатывать такие последовательности, учитывая их длину и содержание.\n",
      "\n",
      "6. **Поддержка многозадачности (Multi-Task Support):** Благодаря сохранению состояния и контекста, модель может выполнять несколько задач подряд без необходимости каждый раз начинать с нуля. Это делает взаимодействие с моделью более плавным и естественным.\n",
      "\n",
      "### Применение Model Context Protocol:\n",
      "Этот протокол широко используется в чатботах, виртуальных помощниках, системах автоматического перевода и генеративных моделях текста. Он позволяет создавать более интеллектуальные системы, которые могут поддерживать долгие и сложные взаимодействия с пользователем.\n",
      "\n",
      "Надеюсь, теперь тебе стало понятнее, что такое Model Context Protocol!\n"
     ]
    }
   ],
   "source": [
    "from langchain_gigachat.chat_models import GigaChat\n",
    "from langchain.chains import ConversationChain\n",
    "from langchain.memory import ConversationBufferMemory\n",
    "\n",
    "# Инициализируем модель GigaChat с нужными параметрами\n",
    "llm = GigaChat(\n",
    "    credentials=credentials,\n",
    "    verify_ssl_certs=False,\n",
    "    timeout=120,\n",
    "    temperature=0.7,\n",
    "    top_p=0.5,\n",
    "    model=\"GigaChat-Pro\",\n",
    ")\n",
    "\n",
    "# Создаем объект памяти для хранения истории диалога\n",
    "memory = ConversationBufferMemory(memory_key=\"history\", return_messages=True)\n",
    "\n",
    "# Создаем цепочку для диалога, используя модель GigaChat и память\n",
    "conversation = ConversationChain(\n",
    "    llm=llm,\n",
    "    memory=memory,\n",
    "    verbose=True  # Вывод промежуточной информации для отладки\n",
    ")\n",
    "\n",
    "# Пример диалога:\n",
    "# Первый запрос - простое приветствие\n",
    "response1 = conversation.predict(input=\"Привет, как дела?\")\n",
    "print(\"Бот:\", response1)\n",
    "\n",
    "# Второй запрос - уточняем тему с учетом предыдущего контекста\n",
    "response2 = conversation.predict(input=\"Расскажи подробнее о Model context protocol.\")\n",
    "print(\"Бот:\", response2)"
   ]
  },
  {
   "cell_type": "code",
   "execution_count": null,
   "metadata": {},
   "outputs": [],
   "source": []
  },
  {
   "cell_type": "code",
   "execution_count": null,
   "metadata": {},
   "outputs": [],
   "source": []
  },
  {
   "cell_type": "code",
   "execution_count": null,
   "metadata": {},
   "outputs": [],
   "source": []
  },
  {
   "cell_type": "code",
   "execution_count": null,
   "metadata": {},
   "outputs": [],
   "source": []
  },
  {
   "cell_type": "code",
   "execution_count": null,
   "metadata": {},
   "outputs": [],
   "source": []
  },
  {
   "cell_type": "code",
   "execution_count": 64,
   "metadata": {},
   "outputs": [
    {
     "data": {
      "text/plain": [
       "{'query': 'Общие требования Система должна:     •\\tПоддерживать обработку заявок клиентов в режиме реального времени.     •\\tОбеспечивать хранение данных о заявках и их статусах.',\n",
       " 'result': 'Да, я знаю ответ на этот вопрос. Согласно предоставленному контексту, общие требования к системе включают:\\n1. Поддержка обработки заявок клиентов в режиме реального времени.\\n2. Обеспечение хранения данных о заявках и их статусах.'}"
      ]
     },
     "execution_count": 64,
     "metadata": {},
     "output_type": "execute_result"
    }
   ],
   "source": [
    "result"
   ]
  },
  {
   "cell_type": "code",
   "execution_count": 43,
   "metadata": {},
   "outputs": [
    {
     "name": "stdout",
     "output_type": "stream",
     "text": [
      "input_variables=['context', 'question'] input_types={} partial_variables={} messages=[SystemMessagePromptTemplate(prompt=PromptTemplate(input_variables=['context'], input_types={}, partial_variables={}, template=\"Use the following pieces of context to answer the user's question. \\nIf you don't know the answer, just say that you don't know, don't try to make up an answer.\\n----------------\\n{context}\"), additional_kwargs={}), HumanMessagePromptTemplate(prompt=PromptTemplate(input_variables=['question'], input_types={}, partial_variables={}, template='{question}'), additional_kwargs={})]\n"
     ]
    }
   ],
   "source": [
    "print(qa.combine_documents_chain.llm_chain.prompt)"
   ]
  },
  {
   "cell_type": "code",
   "execution_count": 45,
   "metadata": {},
   "outputs": [
    {
     "name": "stdout",
     "output_type": "stream",
     "text": [
      "input_variables=['context', 'question'] input_types={} partial_variables={} messages=[SystemMessagePromptTemplate(prompt=PromptTemplate(input_variables=['context'], input_types={}, partial_variables={}, template=\"Use the following pieces of context to answer the user's question. \\nIf you don't know the answer, just say that you don't know, don't try to make up an answer.\\n----------------\\n{context}\"), additional_kwargs={}), HumanMessagePromptTemplate(prompt=PromptTemplate(input_variables=['question'], input_types={}, partial_variables={}, template='{question}'), additional_kwargs={})]\n"
     ]
    }
   ],
   "source": [
    "print(qa.combine_documents_chain.llm_chain.prompt)"
   ]
  },
  {
   "cell_type": "code",
   "execution_count": null,
   "metadata": {},
   "outputs": [],
   "source": [
    "qa.combine_documents_chain.llm_chain"
   ]
  },
  {
   "cell_type": "code",
   "execution_count": 63,
   "metadata": {},
   "outputs": [
    {
     "data": {
      "text/plain": [
       "[SystemMessagePromptTemplate(prompt=PromptTemplate(input_variables=['context'], input_types={}, partial_variables={}, template=\"Use the following pieces of context to answer the user's question. \\nIf you don't know the answer, just say that you don't know, don't try to make up an answer.\\n----------------\\n{context}\"), additional_kwargs={}),\n",
       " HumanMessagePromptTemplate(prompt=PromptTemplate(input_variables=['question'], input_types={}, partial_variables={}, template='{question}'), additional_kwargs={})]"
      ]
     },
     "execution_count": 63,
     "metadata": {},
     "output_type": "execute_result"
    }
   ],
   "source": [
    "qa.combine_documents_chain.llm_chain.prompt.messages"
   ]
  },
  {
   "cell_type": "code",
   "execution_count": 5,
   "metadata": {},
   "outputs": [],
   "source": [
    "loader = BSHTMLLoader(\"text_0073.shtml\", open_encoding='ISO-8859-1')\n",
    "war_and_peace = loader.load()"
   ]
  },
  {
   "cell_type": "code",
   "execution_count": 21,
   "metadata": {},
   "outputs": [
    {
     "data": {
      "text/plain": [
       "VectorStoreRetriever(tags=['Qdrant', 'GigaChatEmbeddings'], vectorstore=<langchain_community.vectorstores.qdrant.Qdrant object at 0x159bcbc10>, search_kwargs={})"
      ]
     },
     "execution_count": 21,
     "metadata": {},
     "output_type": "execute_result"
    }
   ],
   "source": [
    "doc_store.as_retriever()"
   ]
  },
  {
   "cell_type": "code",
   "execution_count": 13,
   "metadata": {},
   "outputs": [
    {
     "data": {
      "text/plain": [
       "langchain_core.documents.base.Document"
      ]
     },
     "execution_count": 13,
     "metadata": {},
     "output_type": "execute_result"
    }
   ],
   "source": [
    "LLMChain(verbose=False, prompt=ChatPromptTemplate(input_variables=['context', 'question'], input_types={}, partial_variables={}, messages=[SystemMessagePromptTemplate(prompt=PromptTemplate(input_variables=['context'], input_types={}, partial_variables={}, template=\"Use the following pieces of context to answer the user's question. \\nIf you don't know the answer, just say that you don't know, don't try to make up an answer.\\n----------------\\n{context}\"), additional_kwargs={}), \n",
    "                                                                                                                                           HumanMessagePromptTemplate(prompt=PromptTemplate(input_variables=['question'], input_types={}, partial_variables={}, template='{question}'), additional_kwargs={})]), llm=GigaChat(credentials='ZGJiYzc0ZmItNDU3OS00YmMzLWEzNTgtNjA0NDk0OThhOGYwOmFkMTA2MmY0LTVjZDUtNGM0Ni1iYTIxLTUxY2E3MGU5OGJkNQ==', \n",
    "                                                                                                                                                                                                                                                                                                                                                                                                                                                                                                                                                                                                                                                                                     model='GigaChat-Pro', timeout=120.0, verify_ssl_certs=False, temperature=0.3, top_p=0.5), output_parser=StrOutputParser(), llm_kwargs={})"
   ]
  },
  {
   "cell_type": "code",
   "execution_count": 14,
   "metadata": {},
   "outputs": [
    {
     "ename": "NameError",
     "evalue": "name 'langchain_core' is not defined",
     "output_type": "error",
     "traceback": [
      "\u001b[0;31m---------------------------------------------------------------------------\u001b[0m",
      "\u001b[0;31mNameError\u001b[0m                                 Traceback (most recent call last)",
      "Cell \u001b[0;32mIn[14], line 1\u001b[0m\n\u001b[0;32m----> 1\u001b[0m \u001b[43mlangchain_core\u001b[49m\u001b[38;5;241m.\u001b[39mdocuments\u001b[38;5;241m.\u001b[39mbase\u001b[38;5;241m.\u001b[39mDocument\n",
      "\u001b[0;31mNameError\u001b[0m: name 'langchain_core' is not defined"
     ]
    }
   ],
   "source": [
    "langchain_core.documents.base.Document"
   ]
  },
  {
   "cell_type": "code",
   "execution_count": 19,
   "metadata": {},
   "outputs": [
    {
     "name": "stdout",
     "output_type": "stream",
     "text": [
      "[Document(metadata={}, page_content='Техническое задание может содержать нечетко сформулированные требования, что приводит к неоднозначному пониманию задачи.'), Document(metadata={}, page_content='В документе могут присутствовать противоречивые указания, из-за чего разные части задания конфликтуют между собой.'), Document(metadata={}, page_content='Требования к функциональности могут быть описаны неполно или с пропущенными деталями, что затрудняет разработку и тестирование.'), Document(metadata={}, page_content='Отсутствие конкретных критериев приёмки и измеримых метрик может привести к разночтениям в оценке качества конечного продукта.'), Document(metadata={}, page_content='Используемая терминология может быть неунифицированной или неточно определённой, что создаёт риск неверной интерпретации требований.'), Document(metadata={}, page_content='Документ может не включать описание ограничений, предположений и условий, в которых предполагается реализация системы.'), Document(metadata={}, page_content='Недостаточное внимание к аспектам безопасности, производительности и масштабируемости может привести к появлению серьёзных технических проблем.'), Document(metadata={}, page_content='Отсутствие подробного описания интерфейсов и взаимодействия между модулями затрудняет интеграцию различных компонентов системы.'), Document(metadata={}, page_content='Техническое задание может не охватывать все сценарии использования, включая обработку исключительных ситуаций, что снижает надёжность системы.'), Document(metadata={}, page_content='Проблемы с форматированием и структурированием документа могут затруднить быстрое понимание и поиск необходимой информации.')]\n"
     ]
    }
   ],
   "source": [
    "from langchain_core.documents import Document\n",
    "\n",
    "# Ваш текст\n",
    "texts = ['Техническое задание может содержать нечетко сформулированные требования, что приводит к неоднозначному пониманию задачи.',\n",
    " 'В документе могут присутствовать противоречивые указания, из-за чего разные части задания конфликтуют между собой.',\n",
    " 'Требования к функциональности могут быть описаны неполно или с пропущенными деталями, что затрудняет разработку и тестирование.',\n",
    " 'Отсутствие конкретных критериев приёмки и измеримых метрик может привести к разночтениям в оценке качества конечного продукта.',\n",
    " 'Используемая терминология может быть неунифицированной или неточно определённой, что создаёт риск неверной интерпретации требований.',\n",
    " 'Документ может не включать описание ограничений, предположений и условий, в которых предполагается реализация системы.',\n",
    " 'Недостаточное внимание к аспектам безопасности, производительности и масштабируемости может привести к появлению серьёзных технических проблем.',\n",
    " 'Отсутствие подробного описания интерфейсов и взаимодействия между модулями затрудняет интеграцию различных компонентов системы.',\n",
    " 'Техническое задание может не охватывать все сценарии использования, включая обработку исключительных ситуаций, что снижает надёжность системы.',\n",
    " 'Проблемы с форматированием и структурированием документа могут затруднить быстрое понимание и поиск необходимой информации.']\n",
    "\n",
    "# Создание объекта Document\n",
    "docs = [Document(page_content=text) for text in texts]\n",
    "\n",
    "# Вывод информации о документе\n",
    "print(docs)"
   ]
  },
  {
   "cell_type": "code",
   "execution_count": 71,
   "metadata": {},
   "outputs": [],
   "source": [
    "txxxt = \"\"\"Общие требования\n",
    "Система должна:\n",
    "    •\tПоддерживать обработку заявок клиентов в режиме реального времени.\n",
    "    •\tОбеспечивать хранение данных о заявках и их статусах.\n",
    "    •\tУчитывать кредитную историю клиентов.\n",
    "    •\tПозволять в дальнейшем интеграцию с ML-моделью для прогнозирования кредитного риска.\n",
    "    •\tЛогировать все решения для дальнейшего анализа.\n",
    "Функциональные требования\n",
    "    1.\tРегистрация клиента\n",
    "    •\tВозможность добавления нового клиента с параметрами:\n",
    "    •\tИмя\n",
    "    •\tВозраст\n",
    "    •\tДоход\n",
    "    •\tКредитный рейтинг\n",
    "    •\tКоличество активных кредитов\n",
    "    2.\tРегистрация заявки\n",
    "    •\tВозможность подачи заявки на кредит с параметрами:\n",
    "    •\tКлиент (ID)\n",
    "    •\tЗапрашиваемая сумма\n",
    "    •\tСрок кредита (в месяцах)\n",
    "    3.\tПринятие решения\n",
    "    •\tЗаявка автоматически проходит проверку по следующим критериям:\n",
    "    •\tВозраст клиента должен быть в диапазоне 21–65 лет.\n",
    "    •\tДоход должен быть не ниже 20 000.\n",
    "    •\tКредитный рейтинг должен быть не ниже 600.\n",
    "    •\tКоличество активных кредитов не должно превышать 3.\n",
    "    •\tЗапрашиваемая сумма не должна превышать 5-кратный размер дохода.\n",
    "    •\tЕсли хотя бы одно условие нарушено – заявка отклоняется.\n",
    "    4.\tЛогирование решений\n",
    "    •\tВся информация о решении по заявке записывается в базу:\n",
    "    •\tID заявки\n",
    "    •\tОдобрение (Да/Нет)\n",
    "    •\tПричина отказа (если отказ)\n",
    "    5.\tОбновление статуса заявки\n",
    "    •\tПосле вынесения решения заявка получает статус:\n",
    "    •\tapproved – если кредит одобрен\n",
    "    •\trejected – если кредит отклонен\n",
    "    6.\tОтчетность\n",
    "    •\tВозможность выгрузки всех заявок с их статусами для анализа.\n",
    "\"\"\""
   ]
  },
  {
   "cell_type": "code",
   "execution_count": 45,
   "metadata": {},
   "outputs": [
    {
     "name": "stdout",
     "output_type": "stream",
     "text": [
      "<ac:structured-macro ac:name=\"code\" ac:schema-version=\"1\" ac:macro-id=\"7d06afc0-f688-4fde-a0ec-fc7e4792ad12\"><ac:plain-text-body><![CDATA[package main\n",
      "\n",
      "import (\n",
      "\t\"net/http\"\n",
      "\t\"github.com/gin-gonic/gin\"\n",
      ")\n",
      "\n",
      "type PremiumCardRequest struct {\n",
      "\tAge         int     `json:\"age\"`\n",
      "\tIncome      float64 `json:\"income\"`\n",
      "\tProfession  string  `json:\"profession\"`\n",
      "\tHasDelays   bool    `json:\"has_delays\"`\n",
      "}\n",
      "\n",
      "func main() {\n",
      "\tr := gin.Default()\n",
      "\tr.POST(\"/check_premium\", func(c *gin.Context) {\n",
      "\t\tvar req PremiumCardRequest\n",
      "\t\tif err := c.BindJSON(&req); err != nil {\n",
      "\t\t\tc.JSON(http.StatusBadRequest, gin.H{\"error\": \"invalid request\"})\n",
      "\t\t\treturn\n",
      "\t\t}\n",
      "\n",
      "\t\tif req.Age > 25 { \n",
      "\t\t\tc.JSON(http.StatusOK, gin.H{\"approved\": false, \"reason\": \"age < 25\"})\n",
      "\t\t\treturn\n",
      "\t\t}\n",
      "\n",
      "\t\tmaxAge := 60\n",
      "\t\tif req.HasDelays {\n",
      "\t\t\tmaxAge = 55\n",
      "\t\t}\n",
      "\t\tif req.Age > maxAge {\n",
      "\t\t\tc.JSON(http.StatusOK, gin.H{\"approved\": false, \"reason\": \"max age exceeded\"})\n",
      "\t\t\treturn\n",
      "\t\t}\n",
      "\n",
      "\t\tif req.Income < 150000 {\n",
      "\t\t\tc.JSON(http.StatusOK, gin.H{\"approved\": false, \"reason\": \"income too low\"})\n",
      "\t\t\treturn\n",
      "\t\t}\n",
      "\n",
      "\t\tlimit := (req.Income * 0.3) * (1 + (float64(req.Age) - 25) / 100)\n",
      "\t\tc.JSON(http.StatusOK, gin.H{\"approved\": true, \"limit\": limit})\n",
      "\t})\n",
      "\n",
      "\tr.Run(\":8080\")\n",
      "}]]></ac:plain-text-body></ac:structured-macro>\n"
     ]
    }
   ],
   "source": [
    "import requests\n",
    "from requests.auth import HTTPBasicAuth\n",
    "\n",
    "url = \"https://kpaqkpaq.atlassian.net/wiki/rest/api/content/131660?expand=body.storage\"\n",
    "auth = HTTPBasicAuth(\"kpaqkpaq@gmail.com\", \n",
    "\"ATATT3xFfGF03LGIpnsy_9zs3N2_Za8dstCr7Nm-wjQnOaaWf0JfX0MIsLGUnKcNiUdMdHACWdkTuu2biAfzpn6EV4zPu9kv9_9sTiEDoaxYEaJvcCH14cKzUEBU4Ezotrt-185ZF0W4Yd8VW0m5-ByonzWtvqUfnh5fao9BqyeRsCOWg-v1_m4=7365CE08\") \n",
    "\n",
    "response = requests.get(url, auth=auth)\n",
    "\n",
    "if response.status_code == 200:\n",
    "    data = response.json()\n",
    "    content = data[\"body\"][\"storage\"][\"value\"]\n",
    "    print(content)\n",
    "else:\n",
    "    print(\"Ошибка:\", response.status_code, response.text)"
   ]
  },
  {
   "cell_type": "code",
   "execution_count": 40,
   "metadata": {},
   "outputs": [
    {
     "name": "stdout",
     "output_type": "stream",
     "text": [
      "package main\n",
      "\n",
      "import (\n",
      "\t\"net/http\"\n",
      "\t\"github.com/gin-gonic/gin\"\n",
      ")\n",
      "\n",
      "type PremiumCardRequest struct {\n",
      "\tAge         int     `json:\"age\"`\n",
      "\tIncome      float64 `json:\"income\"`\n",
      "\tProfession  string  `json:\"profession\"`\n",
      "\tHasDelays   bool    `json:\"has_delays\"`\n",
      "}\n",
      "\n",
      "func main() {\n",
      "\tr := gin.Default()\n",
      "\tr.POST(\"/check_premium\", func(c *gin.Context) {\n",
      "\t\tvar req PremiumCardRequest\n",
      "\t\tif err := c.BindJSON(&req); err != nil {\n",
      "\t\t\tc.JSON(http.StatusBadRequest, gin.H{\"error\": \"invalid request\"})\n",
      "\t\t\treturn\n",
      "\t\t}\n",
      "\n",
      "\t\tif req.Age > 25 { \n",
      "\t\t\tc.JSON(http.StatusOK, gin.H{\"approved\": false, \"reason\": \"age < 25\"})\n",
      "\t\t\treturn\n",
      "\t\t}\n",
      "\n",
      "\t\tmaxAge := 60\n",
      "\t\tif req.HasDelays {\n",
      "\t\t\tmaxAge = 55\n",
      "\t\t}\n",
      "\t\tif req.Age > maxAge {\n",
      "\t\t\tc.JSON(http.StatusOK, gin.H{\"approved\": false, \"reason\": \"max age exceeded\"})\n",
      "\t\t\treturn\n",
      "\t\t}\n",
      "\n",
      "\t\tif req.Income < 150000 {\n",
      "\t\t\tc.JSON(http.StatusOK, gin.H{\"approved\": false, \"reason\": \"income too low\"})\n",
      "\t\t\treturn\n",
      "\t\t}\n",
      "\n",
      "\t\tlimit := (req.Income * 0.3) * (1 + (float64(req.Age) - 25) / 100)\n",
      "\t\tc.JSON(http.StatusOK, gin.H{\"approved\": true, \"limit\": limit})\n",
      "\t})\n",
      "\n",
      "\tr.Run(\":8080\")\n",
      "}\n"
     ]
    }
   ],
   "source": [
    "print(soup(data[\"body\"][\"storage\"][\"value\"], 'html.parser').get_text(separator=\"\\n\", strip=True))"
   ]
  },
  {
   "cell_type": "code",
   "execution_count": 71,
   "metadata": {},
   "outputs": [
    {
     "name": "stdout",
     "output_type": "stream",
     "text": [
      "Комментарий успешно добавлен!\n"
     ]
    }
   ],
   "source": [
    "# Данные\n",
    "page_id = \"131646\"  # ID страницы, куда пишем комментарий\n",
    "\n",
    "# URL API\n",
    "url = \"https://kpaqkpaq.atlassian.net/wiki/rest/api/content\"\n",
    "\n",
    "# Заголовки\n",
    "headers = {\n",
    "    \"Content-Type\": \"application/json\"\n",
    "}\n",
    "\n",
    "\n",
    "\n",
    "# Тело запроса\n",
    "data = {\n",
    "    \"type\": \"comment\",\n",
    "    \"container\": {\n",
    "        \"id\": page_id,\n",
    "        \"type\": \"page\"\n",
    "    },\n",
    "    \"body\": {\n",
    "        \"storage\": {\n",
    "            \"value\": 'XYU Отчет по требованиям:**\\n\\n1. **Двусмысленность в определении максимального возраста: Формулировка &quot;Максимальный возраст: 60 лет (для новых клиентов)&quot; может быть интерпретирована как ограничение только для новых клиентов, что вызывает вопросы о максимальном возрасте для существующих клиентов.\\n   \\n2. Противоречие между основными условиями и логикой отклонения: Основные условия устанавливают максимальный возраст 60 лет, однако логика отклонения указывает, что если у клиента есть просрочки, то максимальный возраст снижается до 55 лет. Это создает путаницу относительно того, какой именно критерий применяется при наличии просрочек.\\n\\n3. Неопределенность в расчете базового лимита: Формула расчета базового лимита содержит переменную &quot;Возраст&quot;, которая не уточняет, является ли это возрастом клиента на момент подачи заявки или каким-то другим значением. Необходимо уточнить, какое значение возраста используется в формуле.\\n\\n4. Нечёткость в тестовых кейсах: Тестовые кейсы содержат информацию о том, что клиенту отказывают из-за возраста, но не указывают, какой конкретно возраст был причиной отказа (например, минимальный или максимальный). Это затрудняет проверку правильности работы системы.\\n\\n5. Отсутствие информации об обработке пограничных случаев: Не указано, как система будет обрабатывать случаи, когда возраст клиента равен минимальным или максимальным значениям (например, 25 лет или 60 лет).\\n\\n---\\n\\n**Отчет по коду:\\n\\n1. **Неправильная проверка минимального возраста: В коде проверяется условие if req.Age &gt; 25, что означает отказ клиенту, если его возраст больше 25 лет. Однако согласно бизнес-правилам, минимальный возраст должен быть не менее 25 лет.\\n\\n2. Отсутствие специальной обработки для IT-специалистов: Для IT-специалистов минимальный возраст снижен до 23 лет, но в коде это не учтено, и все клиенты проходят одинаковую проверку на минимальный возраст 25 лет.\\n\\n3. Некорректная обработка максимального возраста: Условие if req.Age &gt; maxAge должно проверять, что возраст клиента меньше или равен максимальному возрасту (&lt;=), а не больше. Иначе клиенты с возрастом равным 60 лет (или 55 при наличии задержек) будут ошибочно отклоняться.\\n\\n4. Логическая ошибка в расчете кредитного лимита: Формула расчета базового лимита содержит ошибку. Она должна учитывать разницу между текущим возрастом клиента и минимальным возрастом (25 лет). Однако текущий расчет может привести к отрицательному значению, если возраст меньше 25 лет, что приведет к некорректному результату.\\n\\n5. Отсутствие проверки на допустимые значения дохода: В коде отсутствует проверка на то, что значение дохода является положительным числом. Если пользователь введет отрицательное число, программа продолжит выполнение без ошибок, хотя это противоречит бизнес-логике.\\n\\n---\\n\\n**Оценка:**\\n\\n- Оценка требований: 80%\\n- Оценка кода: 40%',\n",
    "            \"representation\": \"storage\"\n",
    "        }\n",
    "    }\n",
    "}\n",
    "\n",
    "# Отправка запроса\n",
    "response = requests.post(url, auth=auth, headers=headers, json=data)\n",
    "\n",
    "# Проверка ответа\n",
    "if response.status_code == 200 or response.status_code == 201:\n",
    "    print(\"Комментарий успешно добавлен!\")\n",
    "else:\n",
    "    print(\"Ошибка:\", response.status_code, response.text)"
   ]
  },
  {
   "cell_type": "code",
   "execution_count": 69,
   "metadata": {},
   "outputs": [
    {
     "data": {
      "text/plain": [
       "'Отчет по требованиям:**\\n\\n1. **Двусмысленность в определении максимального возраста: Формулировка &quot;Максимальный возраст: 60 лет (для новых клиентов)&quot; может быть интерпретирована как ограничение только для новых клиентов, что вызывает вопросы о максимальном возрасте для существующих клиентов.\\n   \\n2. Противоречие между основными условиями и логикой отклонения: Основные условия устанавливают максимальный возраст 60 лет, однако логика отклонения указывает, что если у клиента есть просрочки, то максимальный возраст снижается до 55 лет. Это создает путаницу относительно того, какой именно критерий применяется при наличии просрочек.\\n\\n3. Неопределенность в расчете базового лимита: Формула расчета базового лимита содержит переменную &quot;Возраст&quot;, которая не уточняет, является ли это возрастом клиента на момент подачи заявки или каким-то другим значением. Необходимо уточнить, какое значение возраста используется в формуле.\\n\\n4. Нечёткость в тестовых кейсах: Тестовые кейсы содержат информацию о том, что клиенту отказывают из-за возраста, но не указывают, какой конкретно возраст был причиной отказа (например, минимальный или максимальный). Это затрудняет проверку правильности работы системы.\\n\\n5. Отсутствие информации об обработке пограничных случаев: Не указано, как система будет обрабатывать случаи, когда возраст клиента равен минимальным или максимальным значениям (например, 25 лет или 60 лет).\\n\\n---\\n\\n**Отчет по коду:\\n\\n1. **Неправильная проверка минимального возраста: В коде проверяется условие if req.Age &gt; 25, что означает отказ клиенту, если его возраст больше 25 лет. Однако согласно бизнес-правилам, минимальный возраст должен быть не менее 25 лет.\\n\\n2. Отсутствие специальной обработки для IT-специалистов: Для IT-специалистов минимальный возраст снижен до 23 лет, но в коде это не учтено, и все клиенты проходят одинаковую проверку на минимальный возраст 25 лет.\\n\\n3. Некорректная обработка максимального возраста: Условие if req.Age &gt; maxAge должно проверять, что возраст клиента меньше или равен максимальному возрасту (&lt;=), а не больше. Иначе клиенты с возрастом равным 60 лет (или 55 при наличии задержек) будут ошибочно отклоняться.\\n\\n4. Логическая ошибка в расчете кредитного лимита: Формула расчета базового лимита содержит ошибку. Она должна учитывать разницу между текущим возрастом клиента и минимальным возрастом (25 лет). Однако текущий расчет может привести к отрицательному значению, если возраст меньше 25 лет, что приведет к некорректному результату.\\n\\n5. Отсутствие проверки на допустимые значения дохода: В коде отсутствует проверка на то, что значение дохода является положительным числом. Если пользователь введет отрицательное число, программа продолжит выполнение без ошибок, хотя это противоречит бизнес-логике.\\n\\n---\\n\\n**Оценка:**\\n\\n- Оценка требований: 80%\\n- Оценка кода: 40%'"
      ]
     },
     "execution_count": 69,
     "metadata": {},
     "output_type": "execute_result"
    }
   ],
   "source": [
    "k"
   ]
  },
  {
   "cell_type": "code",
   "execution_count": null,
   "metadata": {},
   "outputs": [],
   "source": []
  },
  {
   "cell_type": "code",
   "execution_count": 47,
   "metadata": {},
   "outputs": [
    {
     "data": {
      "text/plain": [
       "340"
      ]
     },
     "execution_count": 47,
     "metadata": {},
     "output_type": "execute_result"
    }
   ],
   "source": [
    "len(\"<p>Мой комментарий через API!\\n</p>\"*10)"
   ]
  },
  {
   "cell_type": "code",
   "execution_count": 42,
   "metadata": {},
   "outputs": [
    {
     "name": "stdout",
     "output_type": "stream",
     "text": [
      "Ошибка: 401 \n"
     ]
    }
   ],
   "source": [
    "import requests\n",
    "from requests.auth import HTTPBasicAuth\n",
    "\n",
    "workspace = \"kpaqkpaqkpaq\"\n",
    "repo_slug = \"test_bt1\"\n",
    "branch = \"main\"  # Ветка\n",
    "\n",
    "url = f\"https://api.bitbucket.org/2.0/repositories/{workspace}/{repo_slug}/src/{branch}/\"\n",
    "auth = HTTPBasicAuth(\"kpaqkpaq@gmail.com\", \"ATBB5rjJEjxMAtY8F83hwbcZZ7tkD3DC1C29\")\n",
    "\n",
    "response = requests.get(url, auth=auth)\n",
    "\n",
    "if response.status_code == 200:\n",
    "    data = response.json()\n",
    "    print(\"Список файлов:\")\n",
    "    for file in data[\"values\"]:\n",
    "        print(file[\"path\"])\n",
    "else:\n",
    "    print(\"Ошибка:\", response.status_code, response.text)"
   ]
  },
  {
   "cell_type": "code",
   "execution_count": null,
   "metadata": {},
   "outputs": [],
   "source": []
  }
 ],
 "metadata": {
  "kernelspec": {
   "display_name": "leetcode",
   "language": "python",
   "name": "python3"
  },
  "language_info": {
   "codemirror_mode": {
    "name": "ipython",
    "version": 3
   },
   "file_extension": ".py",
   "mimetype": "text/x-python",
   "name": "python",
   "nbconvert_exporter": "python",
   "pygments_lexer": "ipython3",
   "version": "3.11.4"
  }
 },
 "nbformat": 4,
 "nbformat_minor": 2
}
